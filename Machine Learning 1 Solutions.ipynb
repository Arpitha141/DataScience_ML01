{
 "cells": [
  {
   "cell_type": "markdown",
   "metadata": {},
   "source": [
    "##### 1. What are the three stages to build the hypotheses or model in machine learning?"
   ]
  },
  {
   "cell_type": "markdown",
   "metadata": {},
   "source": [
    "1. Model Building\n",
    "\n",
    "2. Model Testing \n",
    "\n",
    "3. Applying the Model"
   ]
  },
  {
   "cell_type": "markdown",
   "metadata": {},
   "source": [
    "##### 2. What is the standard approach to supervised learning?"
   ]
  },
  {
   "cell_type": "markdown",
   "metadata": {},
   "source": [
    "The standard approach to supervised learning is to split the set of example into the training set and the test. "
   ]
  },
  {
   "cell_type": "markdown",
   "metadata": {},
   "source": [
    "##### 3.  What is Training set and Test set?"
   ]
  },
  {
   "cell_type": "markdown",
   "metadata": {},
   "source": [
    "Training set : \n",
    "    \n",
    "    In machine learning, a training set is a dataset used to train a model. \n",
    "    In training the model, specific features are picked out from the training set.  \n",
    "    These features are then incorporated into the model. "
   ]
  },
  {
   "cell_type": "markdown",
   "metadata": {},
   "source": [
    "Test set :\n",
    "    \n",
    "    The test set is a dataset used to measure how well the model performs at making predictions on that test set.  \n",
    "    In the case of sentiment analysis, a test set is a dataset of tweets that are distinct from the tweets in\n",
    "    "
   ]
  },
  {
   "cell_type": "markdown",
   "metadata": {},
   "source": [
    "##### 4.  What is the general principle of an ensemble method and what is bagging and boosting in ensemble method?"
   ]
  },
  {
   "cell_type": "markdown",
   "metadata": {},
   "source": [
    "Ensemble learning helps improve machine learning results by combining several models.\n",
    "Ensemble methods are meta-algorithms that combine several machine learning techniques into one predictive model in order to\n",
    "decrease variance (bagging), bias (boosting), or improve predictions (stacking).\n",
    "\n",
    "The general principle of an ensemble method is to combine the predictions of several models built with a given learning\n",
    "algorithm in order to improve robustness over a single model. bagging is a method in ensemble for improving unstable estimation \n",
    "or classification schemes.\n",
    "\n",
    "Bagging \n",
    "\n",
    "Bootstrap aggregating, also called bagging, is a machine learning ensemble meta-algorithm designed to improve the stability \n",
    "and accuracy of machine learning algorithms used in statistical classification and regression. It also reduces variance and helps\n",
    "to avoid overfitting.\n",
    "\n",
    "\n",
    "Boosting\n",
    "\n",
    "Boosting is a machine learning ensemble meta-algorithm for primarily reducing bias, and also variance in supervised learning,\n",
    "and a family of machine learning algorithms that convert weak learners to strong ones.Algorithms that achieve hypothesis\n",
    "boosting quickly became simply known as \"boosting\"."
   ]
  },
  {
   "cell_type": "markdown",
   "metadata": {},
   "source": [
    "##### 5.  How can you avoid overfitting ?"
   ]
  },
  {
   "cell_type": "markdown",
   "metadata": {},
   "source": [
    "By using a lot of data overfitting can be avoided,\n",
    "\n",
    "overfitting happens relatively as you have a small dataset, and you try to learn from it. But if you have a small database \n",
    "and you are forced to come with a model based on that. In such situation, you can use a technique known as cross validation. \n",
    "In this method the dataset splits into two section, testing and training datasets, the testing dataset will only test the model\n",
    "while, in training dataset, the data points will come up with the model.\n",
    "\n",
    "In this technique, a model is usually given a dataset of a known data on which training (training data set) is run and a \n",
    "dataset of unknown data against which the model is tested. The idea of cross validation is to define a dataset to \n",
    "“test” the model in the training phase."
   ]
  }
 ],
 "metadata": {
  "kernelspec": {
   "display_name": "Python 3",
   "language": "python",
   "name": "python3"
  },
  "language_info": {
   "codemirror_mode": {
    "name": "ipython",
    "version": 3
   },
   "file_extension": ".py",
   "mimetype": "text/x-python",
   "name": "python",
   "nbconvert_exporter": "python",
   "pygments_lexer": "ipython3",
   "version": "3.7.0"
  }
 },
 "nbformat": 4,
 "nbformat_minor": 2
}
